{
 "cells": [
  {
   "cell_type": "code",
   "execution_count": 1,
   "metadata": {},
   "outputs": [],
   "source": [
    "import os; os.chdir('../')\n",
    "import sys; sys.path.append('.')"
   ]
  },
  {
   "cell_type": "code",
   "execution_count": 2,
   "metadata": {},
   "outputs": [
    {
     "data": {
      "text/html": [
       "<style>.container { width:100% !important; }</style>"
      ],
      "text/plain": [
       "<IPython.core.display.HTML object>"
      ]
     },
     "metadata": {},
     "output_type": "display_data"
    }
   ],
   "source": [
    "%config InlineBackend.figure_format = 'retina'\n",
    "import pandas as pd\n",
    "pd.set_option('display.max_columns', None)\n",
    "pd.set_option('display.max_rows', 1000)\n",
    "from IPython.core.interactiveshell import InteractiveShell\n",
    "InteractiveShell.ast_node_interactivity = \"all\"\n",
    "%config InlineBackend.figure_format = 'retina'\n",
    "from IPython.core.display import display, HTML, Markdown\n",
    "display(HTML(\"<style>.container { width:100% !important; }</style>\"))\n",
    "%matplotlib inline"
   ]
  },
  {
   "cell_type": "code",
   "execution_count": 3,
   "metadata": {},
   "outputs": [],
   "source": [
    "import json\n",
    "from datetime import datetime, timezone"
   ]
  },
  {
   "cell_type": "code",
   "execution_count": 9,
   "metadata": {},
   "outputs": [
    {
     "data": {
      "text/plain": [
       "<module 'py.classes' from '/Users/userid/git/evotrade/py/classes.py'>"
      ]
     },
     "execution_count": 9,
     "metadata": {},
     "output_type": "execute_result"
    },
    {
     "data": {
      "text/plain": [
       "<module 'py.mongo' from '/Users/userid/git/evotrade/py/mongo.py'>"
      ]
     },
     "execution_count": 9,
     "metadata": {},
     "output_type": "execute_result"
    },
    {
     "data": {
      "text/plain": [
       "<module 'experiment_analysis.mongo_utils' from '/Users/userid/git/evotrade/experiment_analysis/mongo_utils.py'>"
      ]
     },
     "execution_count": 9,
     "metadata": {},
     "output_type": "execute_result"
    }
   ],
   "source": [
    "from mongoengine.connection import disconnect\n",
    "from importlib import reload\n",
    "import py.classes as classes;reload(classes)\n",
    "import py.mongo as mongo;reload(mongo)\n",
    "import experiment_analysis.mongo_utils as mu;reload(mu)\n",
    "disconnect()\n",
    "db = mongo.connect_to_mongo(db_name='evo_v2')\n",
    "\n",
    "import logging\n",
    "l = logging.getLogger(\"my_logger\")\n",
    "l.setLevel(logging.INFO)\n"
   ]
  },
  {
   "cell_type": "code",
   "execution_count": 9,
   "metadata": {},
   "outputs": [],
   "source": [
    "#SR sell 10M\n",
    "dfs10, spoints10 = mu.get_experiment_info('5d0e9b16d71f100b8a48f460')"
   ]
  },
  {
   "cell_type": "raw",
   "metadata": {},
   "source": [
    "mu.add_colors_and_move(dfs10[:20])"
   ]
  },
  {
   "cell_type": "code",
   "execution_count": 11,
   "metadata": {},
   "outputs": [],
   "source": [
    "# let's try to find a better model for a step 97"
   ]
  },
  {
   "cell_type": "code",
   "execution_count": 12,
   "metadata": {},
   "outputs": [],
   "source": [
    "from scipy.stats import randint as sp_randint"
   ]
  },
  {
   "cell_type": "code",
   "execution_count": 26,
   "metadata": {},
   "outputs": [],
   "source": [
    "exp_id, steps = '5d0e9b16d71f100b8a48f460', dfs10[:20].index\n",
    "MODEL_SPACE={'MODEL_SPACE':\n",
    "                 {\"max_depth\": range(8,12,2), \n",
    "#                   \"max_features\": [1, 3, 10, 20]”\n",
    "#                           \"min_samples_split\": [2, 3, 10],\n",
    "#                           \"bootstrap\": [True, False],\n",
    "#                           \"criterion\": [\"gini\", \"entropy\"],\n",
    "                          'n_estimators':range(8, 12,2)\n",
    "                 }\n",
    "            }\n",
    "n_iter=40"
   ]
  },
  {
   "cell_type": "code",
   "execution_count": 39,
   "metadata": {},
   "outputs": [],
   "source": [
    "ex = mongo.Experiment.objects_safe(pk=exp_id).first()"
   ]
  },
  {
   "cell_type": "code",
   "execution_count": null,
   "metadata": {},
   "outputs": [],
   "source": [
    "    datasets = None\n",
    "\n",
    "    ec = classes.ExperimentConfiguration()\n",
    "    ec.load_from_experiment_step(exp_id, 1, fine_tuned=False)\n",
    "    for step in steps:\n",
    "        root_point = mongo.Point.objects_safe(experiment = ex, fine_tuned__in=[None, False], step = step).first()\n",
    "        ec.adjust_parameters(**root_point.coordinates)\n",
    "        ec._load_from_dict(MODEL_SPACE)\n",
    "        if datasets == None:\n",
    "            datasets = classes.SKModel.get_datasets_from_exp_config(ec)\n",
    "        else:\n",
    "            for d in datasets: d.update(update_source=False)\n",
    "        model = classes.SKModel(ec)\n",
    "        model.train(\n",
    "    #         model_params = {\"max_depth\": 10, 'n_estimators':10},\n",
    "            datasets=datasets,\n",
    "            tags='TRAIN', \n",
    "            model_param_distributions={\"max_depth\": sp_randint(1, 20), \"n_estimators\": sp_randint(10, 200),} ,\n",
    "            random_search_iterations=n_iter)\n",
    "\n",
    "        result_test, result_list_test = model.evaluate(datasets, tags='TEST')\n",
    "        result_val, result_list_val = model.evaluate(datasets, tags='VAL')\n",
    "\n",
    "        point = classes.Point(\n",
    "                    step = step, \n",
    "                    evaluation_on_test = result_test.mongo_object_with_deals,\n",
    "                    evaluation_on_val = result_val.mongo_object,\n",
    "                    detailed_evaluation_on_val = [r.mongo_object for r in result_list_val],\n",
    "                    detailed_evaluation_on_test = [r.mongo_object for r in result_list_test],\n",
    "                    coordinates = root_point.coordinates,\n",
    "                    experiment = ex.id,\n",
    "                    test_days=result_test.days,\n",
    "                    test_mean=result_test.mean,\n",
    "                    test_std=result_test.std,\n",
    "                    test_deals_per_day=result_test.deals_per_day,\n",
    "                    test_diff=result_test.diff,\n",
    "                    test_min=result_test.min,\n",
    "                    test_max=result_test.max,\n",
    "                    test_total=result_test.total,\n",
    "                    val_days=result_val.days,\n",
    "                    val_mean=result_val.mean,\n",
    "                    val_std=result_val.std,\n",
    "                    val_deals_per_day=result_val.deals_per_day,\n",
    "                    val_diff=result_val.diff,\n",
    "                    val_min=result_val.min,\n",
    "                    val_max=result_val.max,\n",
    "                    val_total=result_val.total,\n",
    "                    clf_params=getattr(model.clf, 'best_params_', None),\n",
    "                    fine_tuned=True\n",
    "                    )\n",
    "        point.save_safe()"
   ]
  },
  {
   "cell_type": "code",
   "execution_count": 12,
   "metadata": {},
   "outputs": [
    {
     "name": "stdout",
     "output_type": "stream",
     "text": [
      "11\n"
     ]
    }
   ],
   "source": [
    "i = 0\n",
    "for p in mongo.Point.objects_safe(experiment='5d0d4f4cd71f100b8a48f450', fine_tuned=True):\n",
    "    i += 1\n",
    "print(i)"
   ]
  },
  {
   "cell_type": "code",
   "execution_count": 47,
   "metadata": {},
   "outputs": [],
   "source": [
    "p.step = 1"
   ]
  },
  {
   "cell_type": "code",
   "execution_count": 48,
   "metadata": {},
   "outputs": [
    {
     "data": {
      "text/plain": [
       "<Point: Point object>"
      ]
     },
     "execution_count": 48,
     "metadata": {},
     "output_type": "execute_result"
    }
   ],
   "source": [
    "p.save_safe()"
   ]
  },
  {
   "cell_type": "code",
   "execution_count": 51,
   "metadata": {},
   "outputs": [
    {
     "data": {
      "text/plain": [
       "1"
      ]
     },
     "execution_count": 51,
     "metadata": {},
     "output_type": "execute_result"
    }
   ],
   "source": [
    "p.step"
   ]
  },
  {
   "cell_type": "code",
   "execution_count": 63,
   "metadata": {},
   "outputs": [
    {
     "data": {
      "text/plain": [
       "numpy.ndarray"
      ]
     },
     "execution_count": 63,
     "metadata": {},
     "output_type": "execute_result"
    }
   ],
   "source": [
    "type(dfs10.values)"
   ]
  },
  {
   "cell_type": "code",
   "execution_count": null,
   "metadata": {},
   "outputs": [],
   "source": []
  }
 ],
 "metadata": {
  "kernelspec": {
   "display_name": "trading_v2",
   "language": "python",
   "name": "trading"
  },
  "language_info": {
   "codemirror_mode": {
    "name": "ipython",
    "version": 3
   },
   "file_extension": ".py",
   "mimetype": "text/x-python",
   "name": "python",
   "nbconvert_exporter": "python",
   "pygments_lexer": "ipython3",
   "version": "3.6.0"
  }
 },
 "nbformat": 4,
 "nbformat_minor": 2
}
